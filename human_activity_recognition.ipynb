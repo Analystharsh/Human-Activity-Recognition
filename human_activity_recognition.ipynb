{
 "cells": [
  {
   "cell_type": "code",
   "execution_count": 1,
   "metadata": {},
   "outputs": [],
   "source": [
    "from sklearn.datasets import load_files\n",
    "from sklearn.model_selection import train_test_split\n",
    "import matplotlib.pyplot as plt\n",
    "%matplotlib inline\n",
    "\n",
    "raw_data = load_files(r'E:\\Programs\\Human Activity Data\\Data', random_state=17)\n",
    "files = raw_data['filenames']\n",
    "targets = raw_data['target']\n",
    "\n",
    "train_files, test_files, train_targets, test_targets = train_test_split(files, targets, test_size=0.25, random_state=17)"
   ]
  },
  {
   "cell_type": "code",
   "execution_count": 2,
   "metadata": {},
   "outputs": [
    {
     "name": "stderr",
     "output_type": "stream",
     "text": [
      "Using TensorFlow backend.\n",
      "100%|████████████████████████████████████████████████████████████████████████████████| 200/200 [01:24<00:00,  2.35it/s]\n"
     ]
    },
    {
     "name": "stdout",
     "output_type": "stream",
     "text": [
      "Shape of training data: (200, 100, 64, 64, 1)\n",
      "Shape of training labels: (200, 6)\n"
     ]
    },
    {
     "name": "stderr",
     "output_type": "stream",
     "text": [
      "100%|████████████████████████████████████████████████████████████████████████████████| 100/100 [00:37<00:00,  2.63it/s]\n"
     ]
    },
    {
     "name": "stdout",
     "output_type": "stream",
     "text": [
      "Shape of testing data: (100, 100, 64, 64, 1)\n",
      "Shape of testing labels: (100, 6)\n"
     ]
    }
   ],
   "source": [
    "import numpy as np\n",
    "from utils import read_videos, one_hot_encode\n",
    "\n",
    "X_train = read_videos(train_files[:200], target_size=(64, 64), max_frames=100, extract_frames='last', normalize_pixels=True)\n",
    "y_train = one_hot_encode(train_targets[:200], num_classes=6)\n",
    "print('Shape of training data:', X_train.shape)\n",
    "print('Shape of training labels:', y_train.shape)\n",
    "\n",
    "X_test = read_videos(test_files[:100], target_size=(64, 64), max_frames=100, extract_frames='last', normalize_pixels=True)\n",
    "y_test = one_hot_encode(test_targets[:100], num_classes=6)\n",
    "print('Shape of testing data:', X_test.shape)\n",
    "print('Shape of testing labels:', y_test.shape)"
   ]
  },
  {
   "cell_type": "code",
   "execution_count": 3,
   "metadata": {},
   "outputs": [
    {
     "data": {
      "text/plain": [
       "<matplotlib.image.AxesImage at 0x290d7ef97f0>"
      ]
     },
     "execution_count": 3,
     "metadata": {},
     "output_type": "execute_result"
    },
    {
     "data": {
      "image/png": "[encoded data removed]",
      "text/plain": [
       "<matplotlib.figure.Figure at 0x290d785e0f0>"
      ]
     },
     "metadata": {},
     "output_type": "display_data"
    }
   ],
   "source": [
    "plt.imshow(np.squeeze(X_train[192][56], axis=2), cmap='gray')"
   ]
  },
  {
   "cell_type": "code",
   "execution_count": 4,
   "metadata": {},
   "outputs": [
    {
     "name": "stdout",
     "output_type": "stream",
     "text": [
      "_________________________________________________________________\n",
      "Layer (type)                 Output Shape              Param #   \n",
      "=================================================================\n",
      "conv3d_1 (Conv3D)            (None, 100, 64, 64, 16)   448       \n",
      "_________________________________________________________________\n",
      "max_pooling3d_1 (MaxPooling3 (None, 50, 32, 32, 16)    0         \n",
      "_________________________________________________________________\n",
      "conv3d_2 (Conv3D)            (None, 50, 32, 32, 32)    13856     \n",
      "_________________________________________________________________\n",
      "max_pooling3d_2 (MaxPooling3 (None, 25, 16, 16, 32)    0         \n",
      "_________________________________________________________________\n",
      "conv3d_3 (Conv3D)            (None, 25, 16, 16, 64)    55360     \n",
      "_________________________________________________________________\n",
      "max_pooling3d_3 (MaxPooling3 (None, 12, 8, 8, 64)      0         \n",
      "_________________________________________________________________\n",
      "conv3d_4 (Conv3D)            (None, 12, 8, 8, 128)     221312    \n",
      "_________________________________________________________________\n",
      "max_pooling3d_4 (MaxPooling3 (None, 6, 4, 4, 128)      0         \n",
      "_________________________________________________________________\n",
      "global_average_pooling3d_1 ( (None, 128)               0         \n",
      "_________________________________________________________________\n",
      "dropout_1 (Dropout)          (None, 128)               0         \n",
      "_________________________________________________________________\n",
      "dense_1 (Dense)              (None, 6)                 774       \n",
      "=================================================================\n",
      "Total params: 291,750\n",
      "Trainable params: 291,750\n",
      "Non-trainable params: 0\n",
      "_________________________________________________________________\n"
     ]
    }
   ],
   "source": [
    "from keras.models import Sequential\n",
    "from keras.layers import Conv3D, MaxPooling3D, GlobalAveragePooling3D\n",
    "from keras.layers.core import Dense, Dropout\n",
    "\n",
    "model = Sequential()\n",
    "\n",
    "model.add(Conv3D(filters=16, kernel_size=3, strides=1, padding='same', \n",
    "                 activation='relu', kernel_initializer='he_normal', input_shape=X_train.shape[1:]))\n",
    "model.add(MaxPooling3D(pool_size=2, strides=2, padding='valid'))\n",
    "model.add(Conv3D(filters=32, kernel_size=3, strides=1, padding='same', \n",
    "                 activation='relu', kernel_initializer='he_normal'))\n",
    "model.add(MaxPooling3D(pool_size=2, strides=2, padding='valid'))\n",
    "model.add(Conv3D(filters=64, kernel_size=3, strides=1, padding='same', \n",
    "                 activation='relu', kernel_initializer='he_normal'))\n",
    "model.add(MaxPooling3D(pool_size=2, strides=2, padding='valid'))\n",
    "model.add(Conv3D(filters=128, kernel_size=3, strides=1, padding='same', \n",
    "                 activation='relu', kernel_initializer='he_normal'))\n",
    "model.add(MaxPooling3D(pool_size=2, strides=2, padding='valid'))\n",
    "model.add(GlobalAveragePooling3D())\n",
    "model.add(Dropout(0.3))\n",
    "model.add(Dense(6, activation='softmax'))\n",
    "\n",
    "model.summary()"
   ]
  },
  {
   "cell_type": "code",
   "execution_count": 5,
   "metadata": {},
   "outputs": [
    {
     "name": "stdout",
     "output_type": "stream",
     "text": [
      "Train on 160 samples, validate on 40 samples\n",
      "Epoch 1/25\n",
      "Epoch 00001: val_loss improved from inf to 1.84157, saving model to CNN.weights.best.hdf5\n",
      " - 23s - loss: 2.0768 - acc: 0.2125 - val_loss: 1.8416 - val_acc: 0.1000\n",
      "Epoch 2/25\n",
      "Epoch 00002: val_loss improved from 1.84157 to 1.82519, saving model to CNN.weights.best.hdf5\n",
      " - 20s - loss: 1.7143 - acc: 0.2437 - val_loss: 1.8252 - val_acc: 0.2000\n",
      "Epoch 3/25\n",
      "Epoch 00003: val_loss improved from 1.82519 to 1.35349, saving model to CNN.weights.best.hdf5\n",
      " - 20s - loss: 1.3726 - acc: 0.3687 - val_loss: 1.3535 - val_acc: 0.4250\n",
      "Epoch 4/25\n",
      "Epoch 00004: val_loss improved from 1.35349 to 1.16065, saving model to CNN.weights.best.hdf5\n",
      " - 20s - loss: 1.2767 - acc: 0.4000 - val_loss: 1.1607 - val_acc: 0.4250\n",
      "Epoch 5/25\n",
      "Epoch 00005: val_loss improved from 1.16065 to 1.04328, saving model to CNN.weights.best.hdf5\n",
      " - 20s - loss: 1.1251 - acc: 0.5000 - val_loss: 1.0433 - val_acc: 0.4500\n",
      "Epoch 6/25\n",
      "Epoch 00006: val_loss improved from 1.04328 to 0.87032, saving model to CNN.weights.best.hdf5\n",
      " - 20s - loss: 1.0299 - acc: 0.5375 - val_loss: 0.8703 - val_acc: 0.4750\n",
      "Epoch 7/25\n",
      "Epoch 00007: val_loss improved from 0.87032 to 0.72116, saving model to CNN.weights.best.hdf5\n",
      " - 20s - loss: 0.8922 - acc: 0.6312 - val_loss: 0.7212 - val_acc: 0.7000\n",
      "Epoch 8/25\n",
      "Epoch 00008: val_loss did not improve\n",
      " - 20s - loss: 0.8050 - acc: 0.6375 - val_loss: 0.7467 - val_acc: 0.6750\n",
      "Epoch 9/25\n",
      "Epoch 00009: val_loss improved from 0.72116 to 0.64719, saving model to CNN.weights.best.hdf5\n",
      " - 20s - loss: 0.7693 - acc: 0.6937 - val_loss: 0.6472 - val_acc: 0.7500\n",
      "Epoch 10/25\n",
      "Epoch 00010: val_loss did not improve\n",
      " - 20s - loss: 0.6905 - acc: 0.7250 - val_loss: 0.9682 - val_acc: 0.7750\n",
      "Epoch 11/25\n",
      "Epoch 00011: val_loss did not improve\n",
      " - 20s - loss: 0.6645 - acc: 0.7438 - val_loss: 0.9169 - val_acc: 0.6250\n",
      "Epoch 12/25\n",
      "Epoch 00012: val_loss improved from 0.64719 to 0.59257, saving model to CNN.weights.best.hdf5\n",
      " - 20s - loss: 0.6797 - acc: 0.7375 - val_loss: 0.5926 - val_acc: 0.8000\n",
      "Epoch 13/25\n",
      "Epoch 00013: val_loss improved from 0.59257 to 0.50868, saving model to CNN.weights.best.hdf5\n",
      " - 20s - loss: 0.5452 - acc: 0.7687 - val_loss: 0.5087 - val_acc: 0.7250\n",
      "Epoch 14/25\n",
      "Epoch 00014: val_loss did not improve\n",
      " - 20s - loss: 0.5319 - acc: 0.8000 - val_loss: 0.5494 - val_acc: 0.8250\n",
      "Epoch 15/25\n",
      "Epoch 00015: val_loss did not improve\n",
      " - 20s - loss: 0.5288 - acc: 0.8312 - val_loss: 0.8656 - val_acc: 0.6750\n",
      "Epoch 16/25\n",
      "Epoch 00016: val_loss did not improve\n",
      " - 20s - loss: 0.4726 - acc: 0.8125 - val_loss: 0.7803 - val_acc: 0.6500\n",
      "Epoch 17/25\n",
      "Epoch 00017: val_loss did not improve\n",
      " - 20s - loss: 0.4350 - acc: 0.8500 - val_loss: 0.8822 - val_acc: 0.7000\n",
      "Epoch 18/25\n",
      "Epoch 00018: val_loss did not improve\n",
      " - 20s - loss: 0.3873 - acc: 0.9000 - val_loss: 0.5372 - val_acc: 0.8250\n",
      "Epoch 19/25\n",
      "Epoch 00019: val_loss did not improve\n",
      " - 20s - loss: 0.4614 - acc: 0.8500 - val_loss: 0.5957 - val_acc: 0.7500\n",
      "Epoch 20/25\n",
      "Epoch 00020: val_loss did not improve\n",
      " - 20s - loss: 0.3797 - acc: 0.8312 - val_loss: 0.7639 - val_acc: 0.7000\n",
      "Epoch 21/25\n",
      "Epoch 00021: val_loss did not improve\n",
      " - 20s - loss: 0.3692 - acc: 0.8563 - val_loss: 1.5448 - val_acc: 0.6250\n",
      "Epoch 22/25\n",
      "Epoch 00022: val_loss did not improve\n",
      " - 20s - loss: 0.2915 - acc: 0.8812 - val_loss: 0.7920 - val_acc: 0.8000\n",
      "Epoch 23/25\n",
      "Epoch 00023: val_loss did not improve\n",
      " - 20s - loss: 0.2945 - acc: 0.8937 - val_loss: 0.8129 - val_acc: 0.8000\n",
      "Epoch 24/25\n",
      "Epoch 00024: val_loss did not improve\n",
      " - 20s - loss: 0.3909 - acc: 0.8688 - val_loss: 0.6600 - val_acc: 0.8000\n",
      "Epoch 25/25\n",
      "Epoch 00025: val_loss did not improve\n",
      " - 20s - loss: 0.2931 - acc: 0.8937 - val_loss: 1.2327 - val_acc: 0.6500\n"
     ]
    },
    {
     "data": {
      "text/plain": [
       "<keras.callbacks.History at 0x2913fb69ef0>"
      ]
     },
     "execution_count": 5,
     "metadata": {},
     "output_type": "execute_result"
    }
   ],
   "source": [
    "from keras.callbacks import ModelCheckpoint\n",
    "\n",
    "model.compile(loss='categorical_crossentropy', optimizer='rmsprop', metrics=['accuracy'])\n",
    "\n",
    "checkpoint = ModelCheckpoint(filepath='CNN.weights.best.hdf5', save_best_only=True, verbose=1)\n",
    "model.fit(X_train, y_train, batch_size=2, epochs=25, validation_split=0.2, shuffle=True, verbose=2, callbacks=[checkpoint])"
   ]
  },
  {
   "cell_type": "code",
   "execution_count": 10,
   "metadata": {},
   "outputs": [
    {
     "name": "stdout",
     "output_type": "stream",
     "text": [
      "Accuracy on test data: 75.00%\n"
     ]
    }
   ],
   "source": [
    "model.load_weights('CNN.weights.best.hdf5')\n",
    "(loss, accuracy) = model.evaluate(X_test, y_test, batch_size=2, verbose=0)\n",
    "\n",
    "print('Accuracy on test data: {:.2f}%'.format(accuracy * 100))"
   ]
  },
  {
   "cell_type": "code",
   "execution_count": null,
   "metadata": {},
   "outputs": [],
   "source": []
  }
 ],
 "metadata": {
  "kernelspec": {
   "display_name": "Python 3",
   "language": "python",
   "name": "python3"
  },
  "language_info": {
   "codemirror_mode": {
    "name": "ipython",
    "version": 3
   },
   "file_extension": ".py",
   "mimetype": "text/x-python",
   "name": "python",
   "nbconvert_exporter": "python",
   "pygments_lexer": "ipython3",
   "version": "3.6.3"
  }
 },
 "nbformat": 4,
 "nbformat_minor": 2
}
