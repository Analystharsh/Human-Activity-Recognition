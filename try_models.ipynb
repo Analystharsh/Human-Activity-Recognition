{
 "cells": [
  {
   "cell_type": "code",
   "execution_count": 1,
   "metadata": {},
   "outputs": [],
   "source": [
    "from sklearn.datasets import load_files\n",
    "from sklearn.model_selection import train_test_split\n",
    "import matplotlib.pyplot as plt\n",
    "%matplotlib inline\n",
    "\n",
    "raw_data = load_files(r'C:\\Users\\Mrinal Jain\\Human-Activity-Recognition\\Data', random_state=17)\n",
    "files = raw_data['filenames']\n",
    "targets = raw_data['target']\n",
    "\n",
    "train_files, test_files, train_targets, test_targets = train_test_split(files, targets, test_size=0.25, random_state=17)"
   ]
  },
  {
   "cell_type": "code",
   "execution_count": 2,
   "metadata": {},
   "outputs": [
    {
     "name": "stderr",
     "output_type": "stream",
     "text": [
      "Using TensorFlow backend.\n",
      "100%|████████████████████████████████████████████████████████████████████████████████| 200/200 [02:59<00:00,  1.12it/s]\n"
     ]
    },
    {
     "name": "stdout",
     "output_type": "stream",
     "text": [
      "Shape of training data: (200, 8, 128, 128, 1)\n",
      "Shape of training labels: (200, 6)\n"
     ]
    },
    {
     "name": "stderr",
     "output_type": "stream",
     "text": [
      "100%|████████████████████████████████████████████████████████████████████████████████| 100/100 [01:19<00:00,  1.26it/s]\n"
     ]
    },
    {
     "name": "stdout",
     "output_type": "stream",
     "text": [
      "Shape of testing data: (100, 8, 128, 128, 1)\n",
      "Shape of testing labels: (100, 6)\n"
     ]
    }
   ],
   "source": [
    "import numpy as np\n",
    "from utils import read_videos, one_hot_encode\n",
    "\n",
    "X_train = read_videos(train_files[:200], target_size=(128, 128), max_frames=8, \n",
    "                      single_fps=True, normalize_pixels=True)\n",
    "y_train = one_hot_encode(train_targets[:200], num_classes=6)\n",
    "print('Shape of training data:', X_train.shape)\n",
    "print('Shape of training labels:', y_train.shape)\n",
    "\n",
    "X_test = read_videos(test_files[:100], target_size=(128, 128), max_frames=8, \n",
    "                     single_fps=True, normalize_pixels=True)\n",
    "y_test = one_hot_encode(test_targets[:100], num_classes=6)\n",
    "print('Shape of testing data:', X_test.shape)\n",
    "print('Shape of testing labels:', y_test.shape)"
   ]
  },
  {
   "cell_type": "code",
   "execution_count": 13,
   "metadata": {},
   "outputs": [
    {
     "name": "stdout",
     "output_type": "stream",
     "text": [
      "_________________________________________________________________\n",
      "Layer (type)                 Output Shape              Param #   \n",
      "=================================================================\n",
      "conv3d_30 (Conv3D)           (None, 8, 128, 128, 16)   448       \n",
      "_________________________________________________________________\n",
      "conv3d_31 (Conv3D)           (None, 8, 128, 128, 32)   13856     \n",
      "_________________________________________________________________\n",
      "max_pooling3d_30 (MaxPooling (None, 4, 64, 64, 32)     0         \n",
      "_________________________________________________________________\n",
      "conv3d_32 (Conv3D)           (None, 4, 64, 64, 64)     55360     \n",
      "_________________________________________________________________\n",
      "conv3d_33 (Conv3D)           (None, 4, 64, 64, 128)    221312    \n",
      "_________________________________________________________________\n",
      "max_pooling3d_31 (MaxPooling (None, 2, 32, 32, 128)    0         \n",
      "_________________________________________________________________\n",
      "conv3d_34 (Conv3D)           (None, 2, 32, 32, 256)    884992    \n",
      "_________________________________________________________________\n",
      "conv3d_35 (Conv3D)           (None, 2, 32, 32, 512)    3539456   \n",
      "_________________________________________________________________\n",
      "max_pooling3d_32 (MaxPooling (None, 1, 16, 16, 512)    0         \n",
      "_________________________________________________________________\n",
      "global_average_pooling3d_7 ( (None, 512)               0         \n",
      "_________________________________________________________________\n",
      "dropout_7 (Dropout)          (None, 512)               0         \n",
      "_________________________________________________________________\n",
      "dense_7 (Dense)              (None, 6)                 3078      \n",
      "=================================================================\n",
      "Total params: 4,718,502\n",
      "Trainable params: 4,718,502\n",
      "Non-trainable params: 0\n",
      "_________________________________________________________________\n"
     ]
    }
   ],
   "source": [
    "from keras.models import Sequential\n",
    "from keras.layers import Conv3D, MaxPooling3D, GlobalAveragePooling3D\n",
    "from keras.layers.core import Dense, Dropout\n",
    "\n",
    "model = Sequential()\n",
    "\n",
    "model.add(Conv3D(filters=16, kernel_size=3, strides=1, padding='same', \n",
    "                 activation='relu', kernel_initializer='he_normal', input_shape=X_train.shape[1:]))\n",
    "model.add(Conv3D(filters=32, kernel_size=3, strides=1, padding='same', \n",
    "                 activation='relu', kernel_initializer='he_normal'))\n",
    "model.add(MaxPooling3D(pool_size=2, strides=2, padding='same'))\n",
    "\n",
    "model.add(Conv3D(filters=64, kernel_size=3, strides=1, padding='same', \n",
    "                 activation='relu', kernel_initializer='he_normal'))\n",
    "model.add(Conv3D(filters=128, kernel_size=3, strides=1, padding='same', \n",
    "                 activation='relu', kernel_initializer='he_normal'))\n",
    "model.add(MaxPooling3D(pool_size=2, strides=2, padding='same'))\n",
    "\n",
    "model.add(Conv3D(filters=256, kernel_size=3, strides=1, padding='same', \n",
    "                 activation='relu', kernel_initializer='he_normal'))\n",
    "model.add(Conv3D(filters=512, kernel_size=3, strides=1, padding='same', \n",
    "                 activation='relu', kernel_initializer='he_normal'))\n",
    "model.add(MaxPooling3D(pool_size=2, strides=2, padding='same'))\n",
    "\n",
    "model.add(GlobalAveragePooling3D())\n",
    "model.add(Dropout(0.4))\n",
    "model.add(Dense(6, activation='softmax'))\n",
    "\n",
    "model.summary()"
   ]
  },
  {
   "cell_type": "code",
   "execution_count": 14,
   "metadata": {
    "scrolled": true
   },
   "outputs": [
    {
     "name": "stdout",
     "output_type": "stream",
     "text": [
      "Train on 160 samples, validate on 40 samples\n",
      "Epoch 1/5\n",
      "Epoch 00001: val_loss improved from inf to 1.79987, saving model to CNN.weights.best.hdf5\n",
      " - 69s - loss: 1.9936 - acc: 0.1812 - val_loss: 1.7999 - val_acc: 0.1000\n",
      "Epoch 2/5\n",
      "Epoch 00002: val_loss improved from 1.79987 to 1.79860, saving model to CNN.weights.best.hdf5\n",
      " - 65s - loss: 1.7848 - acc: 0.2125 - val_loss: 1.7986 - val_acc: 0.1750\n",
      "Epoch 3/5\n",
      "Epoch 00003: val_loss did not improve\n",
      " - 64s - loss: 1.7898 - acc: 0.2250 - val_loss: 1.8043 - val_acc: 0.2000\n",
      "Epoch 4/5\n",
      "Epoch 00004: val_loss did not improve\n",
      " - 64s - loss: 1.7871 - acc: 0.2188 - val_loss: 1.8118 - val_acc: 0.2000\n",
      "Epoch 5/5\n",
      "Epoch 00005: val_loss did not improve\n",
      " - 64s - loss: 1.8182 - acc: 0.2063 - val_loss: 1.8077 - val_acc: 0.1000\n"
     ]
    }
   ],
   "source": [
    "from keras.callbacks import ModelCheckpoint\n",
    "\n",
    "model.compile(loss='categorical_crossentropy', optimizer='adam', metrics=['accuracy'])\n",
    "\n",
    "checkpoint = ModelCheckpoint(filepath='CNN.weights.best.hdf5', save_best_only=True, verbose=1)\n",
    "history = model.fit(X_train, y_train, batch_size=2, epochs=5, validation_split=0.2, \n",
    "                    shuffle=True, verbose=2, callbacks=[checkpoint])"
   ]
  },
  {
   "cell_type": "code",
   "execution_count": 15,
   "metadata": {},
   "outputs": [
    {
     "data": {
      "text/plain": [
       "[<matplotlib.lines.Line2D at 0x1fefe9374a8>,\n",
       " <matplotlib.lines.Line2D at 0x1fefe9375f8>]"
      ]
     },
     "execution_count": 15,
     "metadata": {},
     "output_type": "execute_result"
    },
    {
     "data": {
      "image/png": "[encoded data removed]",
      "text/plain": [
       "<matplotlib.figure.Figure at 0x1feeaef72b0>"
      ]
     },
     "metadata": {},
     "output_type": "display_data"
    }
   ],
   "source": [
    "loss = history.history['loss']\n",
    "val_loss = history.history['val_loss']\n",
    "epochs = range(5)\n",
    "plt.plot(epochs, loss, epochs, val_loss)"
   ]
  },
  {
   "cell_type": "code",
   "execution_count": 16,
   "metadata": {},
   "outputs": [
    {
     "name": "stdout",
     "output_type": "stream",
     "text": [
      "Accuracy on test data: 20.00%\n"
     ]
    }
   ],
   "source": [
    "model.load_weights('CNN.weights.best.hdf5')\n",
    "(loss, accuracy) = model.evaluate(X_test, y_test, batch_size=2, verbose=0)\n",
    "\n",
    "print('Accuracy on test data: {:.2f}%'.format(accuracy * 100))"
   ]
  },
  {
   "cell_type": "code",
   "execution_count": null,
   "metadata": {},
   "outputs": [],
   "source": []
  }
 ],
 "metadata": {
  "kernelspec": {
   "display_name": "Python 3",
   "language": "python",
   "name": "python3"
  },
  "language_info": {
   "codemirror_mode": {
    "name": "ipython",
    "version": 3
   },
   "file_extension": ".py",
   "mimetype": "text/x-python",
   "name": "python",
   "nbconvert_exporter": "python",
   "pygments_lexer": "ipython3",
   "version": "3.6.3"
  }
 },
 "nbformat": 4,
 "nbformat_minor": 2
}
