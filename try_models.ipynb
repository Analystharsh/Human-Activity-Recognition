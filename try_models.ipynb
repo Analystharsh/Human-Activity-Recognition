{
 "cells": [
  {
   "cell_type": "code",
   "execution_count": 1,
   "metadata": {},
   "outputs": [],
   "source": [
    "from sklearn.datasets import load_files\n",
    "from sklearn.model_selection import train_test_split\n",
    "import matplotlib.pyplot as plt\n",
    "%matplotlib inline\n",
    "\n",
    "raw_data = load_files(r'C:\\Users\\Mrinal Jain\\Human-Activity-Recognition\\Data', random_state=17)\n",
    "files = raw_data['filenames']\n",
    "targets = raw_data['target']\n",
    "\n",
    "train_files, test_files, train_targets, test_targets = train_test_split(files, targets, test_size=0.25, random_state=17)"
   ]
  },
  {
   "cell_type": "code",
   "execution_count": 2,
   "metadata": {},
   "outputs": [
    {
     "name": "stderr",
     "output_type": "stream",
     "text": [
      "Using TensorFlow backend.\n",
      "100%|████████████████████████████████████████████████████████████████████████████████| 200/200 [00:15<00:00, 12.61it/s]\n"
     ]
    },
    {
     "name": "stdout",
     "output_type": "stream",
     "text": [
      "Shape of training data: (200, 8, 128, 128, 1)\n",
      "Shape of training labels: (200, 6)\n"
     ]
    },
    {
     "name": "stderr",
     "output_type": "stream",
     "text": [
      "100%|████████████████████████████████████████████████████████████████████████████████| 100/100 [00:07<00:00, 13.67it/s]\n"
     ]
    },
    {
     "name": "stdout",
     "output_type": "stream",
     "text": [
      "Shape of testing data: (100, 8, 128, 128, 1)\n",
      "Shape of testing labels: (100, 6)\n"
     ]
    }
   ],
   "source": [
    "import numpy as np\n",
    "from utils import read_videos, one_hot_encode\n",
    "\n",
    "X_train = read_videos(train_files[:200], target_size=(128, 128), max_frames=8, single_fps=True)\n",
    "y_train = one_hot_encode(train_targets[:200], num_classes=6)\n",
    "print('Shape of training data:', X_train.shape)\n",
    "print('Shape of training labels:', y_train.shape)\n",
    "\n",
    "X_test = read_videos(test_files[:100], target_size=(128, 128), max_frames=8, single_fps=True)\n",
    "y_test = one_hot_encode(test_targets[:100], num_classes=6)\n",
    "print('Shape of testing data:', X_test.shape)\n",
    "print('Shape of testing labels:', y_test.shape)"
   ]
  },
  {
   "cell_type": "code",
   "execution_count": 28,
   "metadata": {},
   "outputs": [
    {
     "name": "stdout",
     "output_type": "stream",
     "text": [
      "_________________________________________________________________\n",
      "Layer (type)                 Output Shape              Param #   \n",
      "=================================================================\n",
      "conv3d_26 (Conv3D)           (None, 8, 128, 128, 16)   448       \n",
      "_________________________________________________________________\n",
      "leaky_re_lu_1 (LeakyReLU)    (None, 8, 128, 128, 16)   0         \n",
      "_________________________________________________________________\n",
      "max_pooling3d_20 (MaxPooling (None, 4, 64, 64, 16)     0         \n",
      "_________________________________________________________________\n",
      "conv3d_27 (Conv3D)           (None, 4, 64, 64, 32)     13856     \n",
      "_________________________________________________________________\n",
      "leaky_re_lu_2 (LeakyReLU)    (None, 4, 64, 64, 32)     0         \n",
      "_________________________________________________________________\n",
      "max_pooling3d_21 (MaxPooling (None, 2, 32, 32, 32)     0         \n",
      "_________________________________________________________________\n",
      "conv3d_28 (Conv3D)           (None, 2, 32, 32, 64)     55360     \n",
      "_________________________________________________________________\n",
      "leaky_re_lu_3 (LeakyReLU)    (None, 2, 32, 32, 64)     0         \n",
      "_________________________________________________________________\n",
      "max_pooling3d_22 (MaxPooling (None, 1, 16, 16, 64)     0         \n",
      "_________________________________________________________________\n",
      "conv3d_29 (Conv3D)           (None, 1, 16, 16, 128)    221312    \n",
      "_________________________________________________________________\n",
      "leaky_re_lu_4 (LeakyReLU)    (None, 1, 16, 16, 128)    0         \n",
      "_________________________________________________________________\n",
      "max_pooling3d_23 (MaxPooling (None, 1, 8, 8, 128)      0         \n",
      "_________________________________________________________________\n",
      "global_average_pooling3d_6 ( (None, 128)               0         \n",
      "_________________________________________________________________\n",
      "dropout_4 (Dropout)          (None, 128)               0         \n",
      "_________________________________________________________________\n",
      "dense_6 (Dense)              (None, 6)                 774       \n",
      "=================================================================\n",
      "Total params: 291,750\n",
      "Trainable params: 291,750\n",
      "Non-trainable params: 0\n",
      "_________________________________________________________________\n"
     ]
    }
   ],
   "source": [
    "from keras.models import Sequential\n",
    "from keras.layers import LeakyReLU, Conv3D, MaxPooling3D, GlobalAveragePooling3D\n",
    "from keras.layers.core import Dense, Dropout\n",
    "\n",
    "model = Sequential()\n",
    "\n",
    "model.add(Conv3D(filters=16, kernel_size=3, strides=1, padding='same', kernel_initializer='he_uniform', \n",
    "                 input_shape=X_train.shape[1:]))\n",
    "model.add(LeakyReLU())\n",
    "model.add(MaxPooling3D(pool_size=2, strides=2, padding='same'))\n",
    "model.add(Conv3D(filters=32, kernel_size=3, strides=1, padding='same', kernel_initializer='he_uniform'))\n",
    "model.add(LeakyReLU())\n",
    "model.add(MaxPooling3D(pool_size=2, strides=2, padding='same'))\n",
    "model.add(Conv3D(filters=64, kernel_size=3, strides=1, padding='same', kernel_initializer='he_uniform'))\n",
    "model.add(LeakyReLU())\n",
    "model.add(MaxPooling3D(pool_size=2, strides=2, padding='same'))\n",
    "model.add(Conv3D(filters=128, kernel_size=3, strides=1, padding='same', kernel_initializer='he_uniform'))\n",
    "model.add(LeakyReLU())\n",
    "model.add(MaxPooling3D(pool_size=2, strides=(1, 2, 2), padding='same'))\n",
    "model.add(GlobalAveragePooling3D())\n",
    "model.add(Dropout(0.3))\n",
    "model.add(Dense(6, activation='softmax'))\n",
    "\n",
    "model.summary()"
   ]
  },
  {
   "cell_type": "code",
   "execution_count": 29,
   "metadata": {
    "scrolled": false
   },
   "outputs": [
    {
     "name": "stdout",
     "output_type": "stream",
     "text": [
      "Train on 160 samples, validate on 40 samples\n",
      "Epoch 1/25\n",
      "Epoch 00001: val_loss improved from inf to 1.90434, saving model to CNN.weights.best.hdf5\n",
      " - 11s - loss: 2.3756 - acc: 0.1437 - val_loss: 1.9043 - val_acc: 0.2500\n",
      "Epoch 2/25\n",
      "Epoch 00002: val_loss did not improve\n",
      " - 9s - loss: 1.8693 - acc: 0.1937 - val_loss: 1.9083 - val_acc: 0.2000\n",
      "Epoch 3/25\n",
      "Epoch 00003: val_loss improved from 1.90434 to 1.83401, saving model to CNN.weights.best.hdf5\n",
      " - 9s - loss: 1.8200 - acc: 0.2188 - val_loss: 1.8340 - val_acc: 0.1750\n",
      "Epoch 4/25\n",
      "Epoch 00004: val_loss improved from 1.83401 to 1.82194, saving model to CNN.weights.best.hdf5\n",
      " - 9s - loss: 1.7696 - acc: 0.2562 - val_loss: 1.8219 - val_acc: 0.1250\n",
      "Epoch 5/25\n",
      "Epoch 00005: val_loss improved from 1.82194 to 1.81319, saving model to CNN.weights.best.hdf5\n",
      " - 9s - loss: 1.7532 - acc: 0.2938 - val_loss: 1.8132 - val_acc: 0.1750\n",
      "Epoch 6/25\n",
      "Epoch 00006: val_loss improved from 1.81319 to 1.73931, saving model to CNN.weights.best.hdf5\n",
      " - 9s - loss: 1.6944 - acc: 0.3063 - val_loss: 1.7393 - val_acc: 0.2250\n",
      "Epoch 7/25\n",
      "Epoch 00007: val_loss improved from 1.73931 to 1.72001, saving model to CNN.weights.best.hdf5\n",
      " - 9s - loss: 1.6814 - acc: 0.3312 - val_loss: 1.7200 - val_acc: 0.1500\n",
      "Epoch 8/25\n",
      "Epoch 00008: val_loss improved from 1.72001 to 1.70112, saving model to CNN.weights.best.hdf5\n",
      " - 9s - loss: 1.6489 - acc: 0.3187 - val_loss: 1.7011 - val_acc: 0.1750\n",
      "Epoch 9/25\n",
      "Epoch 00009: val_loss improved from 1.70112 to 1.64530, saving model to CNN.weights.best.hdf5\n",
      " - 9s - loss: 1.6311 - acc: 0.2938 - val_loss: 1.6453 - val_acc: 0.3000\n",
      "Epoch 10/25\n",
      "Epoch 00010: val_loss did not improve\n",
      " - 9s - loss: 1.5414 - acc: 0.4000 - val_loss: 1.8014 - val_acc: 0.2000\n",
      "Epoch 11/25\n",
      "Epoch 00011: val_loss did not improve\n",
      " - 9s - loss: 1.5341 - acc: 0.3500 - val_loss: 1.7145 - val_acc: 0.3000\n",
      "Epoch 12/25\n",
      "Epoch 00012: val_loss improved from 1.64530 to 1.62249, saving model to CNN.weights.best.hdf5\n",
      " - 9s - loss: 1.5625 - acc: 0.3500 - val_loss: 1.6225 - val_acc: 0.2500\n",
      "Epoch 13/25\n",
      "Epoch 00013: val_loss improved from 1.62249 to 1.55338, saving model to CNN.weights.best.hdf5\n",
      " - 9s - loss: 1.4668 - acc: 0.4062 - val_loss: 1.5534 - val_acc: 0.2750\n",
      "Epoch 14/25\n",
      "Epoch 00014: val_loss did not improve\n",
      " - 9s - loss: 1.4707 - acc: 0.3812 - val_loss: 1.5659 - val_acc: 0.3250\n",
      "Epoch 15/25\n",
      "Epoch 00015: val_loss improved from 1.55338 to 1.54064, saving model to CNN.weights.best.hdf5\n",
      " - 9s - loss: 1.3664 - acc: 0.4187 - val_loss: 1.5406 - val_acc: 0.2250\n",
      "Epoch 16/25\n",
      "Epoch 00016: val_loss improved from 1.54064 to 1.52960, saving model to CNN.weights.best.hdf5\n",
      " - 9s - loss: 1.3977 - acc: 0.4062 - val_loss: 1.5296 - val_acc: 0.3000\n",
      "Epoch 17/25\n",
      "Epoch 00017: val_loss did not improve\n",
      " - 9s - loss: 1.3543 - acc: 0.4250 - val_loss: 1.5411 - val_acc: 0.3000\n",
      "Epoch 18/25\n",
      "Epoch 00018: val_loss improved from 1.52960 to 1.46712, saving model to CNN.weights.best.hdf5\n",
      " - 10s - loss: 1.2853 - acc: 0.4375 - val_loss: 1.4671 - val_acc: 0.3250\n",
      "Epoch 19/25\n",
      "Epoch 00019: val_loss did not improve\n",
      " - 9s - loss: 1.2941 - acc: 0.4563 - val_loss: 1.5382 - val_acc: 0.2750\n",
      "Epoch 20/25\n",
      "Epoch 00020: val_loss improved from 1.46712 to 1.46147, saving model to CNN.weights.best.hdf5\n",
      " - 9s - loss: 1.2469 - acc: 0.4500 - val_loss: 1.4615 - val_acc: 0.2750\n",
      "Epoch 21/25\n",
      "Epoch 00021: val_loss improved from 1.46147 to 1.45579, saving model to CNN.weights.best.hdf5\n",
      " - 9s - loss: 1.1999 - acc: 0.4437 - val_loss: 1.4558 - val_acc: 0.2750\n",
      "Epoch 22/25\n",
      "Epoch 00022: val_loss did not improve\n",
      " - 9s - loss: 1.1863 - acc: 0.4750 - val_loss: 1.4908 - val_acc: 0.3250\n",
      "Epoch 23/25\n",
      "Epoch 00023: val_loss did not improve\n",
      " - 9s - loss: 1.1730 - acc: 0.5188 - val_loss: 1.4774 - val_acc: 0.3000\n",
      "Epoch 24/25\n",
      "Epoch 00024: val_loss did not improve\n",
      " - 9s - loss: 1.1811 - acc: 0.4875 - val_loss: 1.5070 - val_acc: 0.2500\n",
      "Epoch 25/25\n",
      "Epoch 00025: val_loss improved from 1.45579 to 1.41539, saving model to CNN.weights.best.hdf5\n",
      " - 9s - loss: 1.1088 - acc: 0.5312 - val_loss: 1.4154 - val_acc: 0.3250\n"
     ]
    }
   ],
   "source": [
    "from keras.callbacks import ModelCheckpoint\n",
    "\n",
    "model.compile(loss='categorical_crossentropy', optimizer='adadelta', metrics=['accuracy'])\n",
    "\n",
    "checkpoint = ModelCheckpoint(filepath='CNN.weights.best.hdf5', save_best_only=True, verbose=1)\n",
    "history = model.fit(X_train, y_train, batch_size=8, epochs=25, validation_split=0.2, \n",
    "                    shuffle=True, verbose=2, callbacks=[checkpoint])"
   ]
  },
  {
   "cell_type": "code",
   "execution_count": 31,
   "metadata": {},
   "outputs": [
    {
     "data": {
      "text/plain": [
       "[<matplotlib.lines.Line2D at 0x21209eadcf8>,\n",
       " <matplotlib.lines.Line2D at 0x21209eade48>]"
      ]
     },
     "execution_count": 31,
     "metadata": {},
     "output_type": "execute_result"
    },
    {
     "data": {
      "image/png": "[encoded data removed]",
      "text/plain": [
       "<matplotlib.figure.Figure at 0x2120a2debe0>"
      ]
     },
     "metadata": {},
     "output_type": "display_data"
    }
   ],
   "source": [
    "loss = history.history['loss']\n",
    "val_loss = history.history['val_loss']\n",
    "epochs = range(25)\n",
    "plt.plot(epochs, loss, epochs, val_loss)"
   ]
  },
  {
   "cell_type": "code",
   "execution_count": 32,
   "metadata": {},
   "outputs": [
    {
     "name": "stdout",
     "output_type": "stream",
     "text": [
      "Accuracy on test data: 34.00%\n"
     ]
    }
   ],
   "source": [
    "model.load_weights('CNN.weights.best.hdf5')\n",
    "(loss, accuracy) = model.evaluate(X_test, y_test, batch_size=2, verbose=0)\n",
    "\n",
    "print('Accuracy on test data: {:.2f}%'.format(accuracy * 100))"
   ]
  },
  {
   "cell_type": "code",
   "execution_count": null,
   "metadata": {},
   "outputs": [],
   "source": []
  }
 ],
 "metadata": {
  "kernelspec": {
   "display_name": "Python 3",
   "language": "python",
   "name": "python3"
  },
  "language_info": {
   "codemirror_mode": {
    "name": "ipython",
    "version": 3
   },
   "file_extension": ".py",
   "mimetype": "text/x-python",
   "name": "python",
   "nbconvert_exporter": "python",
   "pygments_lexer": "ipython3",
   "version": "3.6.3"
  }
 },
 "nbformat": 4,
 "nbformat_minor": 2
}
