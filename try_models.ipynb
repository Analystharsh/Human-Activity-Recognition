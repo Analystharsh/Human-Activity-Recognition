{
 "cells": [
  {
   "cell_type": "code",
   "execution_count": 1,
   "metadata": {},
   "outputs": [],
   "source": [
    "from sklearn.datasets import load_files\n",
    "from sklearn.model_selection import train_test_split\n",
    "import matplotlib.pyplot as plt\n",
    "%matplotlib inline\n",
    "\n",
    "raw_data = load_files(r'C:\\Users\\Mrinal Jain\\Human-Activity-Recognition\\Data', random_state=113)\n",
    "files = raw_data['filenames']\n",
    "targets = raw_data['target']\n",
    "\n",
    "train_files, test_files, train_targets, test_targets = train_test_split(files, targets, test_size=0.25, random_state=113)"
   ]
  },
  {
   "cell_type": "code",
   "execution_count": 2,
   "metadata": {},
   "outputs": [
    {
     "name": "stderr",
     "output_type": "stream",
     "text": [
      "Using TensorFlow backend.\n",
      "100%|████████████████████████████████████████████████████████████████████████████████| 200/200 [00:27<00:00,  7.32it/s]\n"
     ]
    },
    {
     "name": "stdout",
     "output_type": "stream",
     "text": [
      "Shape of training data: (200, 40, 64, 64, 1)\n",
      "Shape of training labels: (200, 6)\n"
     ]
    },
    {
     "name": "stderr",
     "output_type": "stream",
     "text": [
      "100%|████████████████████████████████████████████████████████████████████████████████| 100/100 [00:14<00:00,  7.02it/s]\n"
     ]
    },
    {
     "name": "stdout",
     "output_type": "stream",
     "text": [
      "Shape of testing data: (100, 40, 64, 64, 1)\n",
      "Shape of testing labels: (100, 6)\n"
     ]
    }
   ],
   "source": [
    "import numpy as np\n",
    "from keras.utils import to_categorical\n",
    "from utils import Videos\n",
    "\n",
    "reader = Videos(target_size=(64, 64), max_frames=40, required_fps=5)\n",
    "\n",
    "X_train = reader.read_videos(train_files[:200])\n",
    "y_train = to_categorical(train_targets[:200], num_classes=6)\n",
    "print('Shape of training data:', X_train.shape)\n",
    "print('Shape of training labels:', y_train.shape)\n",
    "\n",
    "X_test = reader.read_videos(test_files[:100])\n",
    "y_test = to_categorical(test_targets[:100], num_classes=6)\n",
    "print('Shape of testing data:', X_test.shape)\n",
    "print('Shape of testing labels:', y_test.shape)"
   ]
  },
  {
   "cell_type": "code",
   "execution_count": 3,
   "metadata": {},
   "outputs": [
    {
     "name": "stdout",
     "output_type": "stream",
     "text": [
      "_________________________________________________________________\n",
      "Layer (type)                 Output Shape              Param #   \n",
      "=================================================================\n",
      "conv3d_1 (Conv3D)            (None, 40, 64, 64, 16)    448       \n",
      "_________________________________________________________________\n",
      "max_pooling3d_1 (MaxPooling3 (None, 20, 32, 32, 16)    0         \n",
      "_________________________________________________________________\n",
      "conv3d_2 (Conv3D)            (None, 20, 32, 32, 32)    13856     \n",
      "_________________________________________________________________\n",
      "max_pooling3d_2 (MaxPooling3 (None, 10, 16, 16, 32)    0         \n",
      "_________________________________________________________________\n",
      "conv3d_3 (Conv3D)            (None, 10, 16, 16, 64)    55360     \n",
      "_________________________________________________________________\n",
      "max_pooling3d_3 (MaxPooling3 (None, 5, 8, 8, 64)       0         \n",
      "_________________________________________________________________\n",
      "conv3d_4 (Conv3D)            (None, 5, 8, 8, 128)      221312    \n",
      "_________________________________________________________________\n",
      "max_pooling3d_4 (MaxPooling3 (None, 5, 4, 4, 128)      0         \n",
      "_________________________________________________________________\n",
      "global_average_pooling3d_1 ( (None, 128)               0         \n",
      "_________________________________________________________________\n",
      "dropout_1 (Dropout)          (None, 128)               0         \n",
      "_________________________________________________________________\n",
      "dense_1 (Dense)              (None, 6)                 774       \n",
      "=================================================================\n",
      "Total params: 291,750\n",
      "Trainable params: 291,750\n",
      "Non-trainable params: 0\n",
      "_________________________________________________________________\n"
     ]
    }
   ],
   "source": [
    "from keras.models import Sequential\n",
    "from keras.layers import LeakyReLU, Conv3D, MaxPooling3D, GlobalAveragePooling3D\n",
    "from keras.layers.core import Dense, Dropout\n",
    "\n",
    "model = Sequential()\n",
    "\n",
    "model.add(Conv3D(filters=16, kernel_size=3, strides=1, padding='same', kernel_initializer='he_normal', activation='relu', \n",
    "                 input_shape=X_train.shape[1:]))\n",
    "model.add(MaxPooling3D(pool_size=2, strides=2, padding='same'))\n",
    "\n",
    "model.add(Conv3D(filters=32, kernel_size=3, strides=1, padding='same', kernel_initializer='he_normal', activation='relu'))\n",
    "model.add(MaxPooling3D(pool_size=2, strides=2, padding='same'))\n",
    "\n",
    "model.add(Conv3D(filters=64, kernel_size=3, strides=1, padding='same', kernel_initializer='he_normal', activation='relu'))\n",
    "model.add(MaxPooling3D(pool_size=2, strides=2, padding='same'))\n",
    "\n",
    "model.add(Conv3D(filters=128, kernel_size=3, strides=1, padding='same', kernel_initializer='he_normal', activation='relu'))\n",
    "model.add(MaxPooling3D(pool_size=2, strides=(1, 2, 2), padding='same'))\n",
    "\n",
    "model.add(GlobalAveragePooling3D())\n",
    "model.add(Dropout(0.3))\n",
    "\n",
    "model.add(Dense(6, activation='softmax'))\n",
    "\n",
    "model.summary()"
   ]
  },
  {
   "cell_type": "code",
   "execution_count": 4,
   "metadata": {
    "scrolled": false
   },
   "outputs": [
    {
     "name": "stdout",
     "output_type": "stream",
     "text": [
      "Train on 160 samples, validate on 40 samples\n",
      "Epoch 1/25\n",
      "Epoch 00001: val_loss improved from inf to 1.72429, saving model to CNN.weights.best.hdf5\n",
      " - 11s - loss: 2.1361 - acc: 0.1437 - val_loss: 1.7243 - val_acc: 0.2750\n",
      "Epoch 2/25\n",
      "Epoch 00002: val_loss did not improve\n",
      " - 8s - loss: 1.7474 - acc: 0.2000 - val_loss: 1.7670 - val_acc: 0.1250\n",
      "Epoch 3/25\n",
      "Epoch 00003: val_loss improved from 1.72429 to 1.59949, saving model to CNN.weights.best.hdf5\n",
      " - 8s - loss: 1.6272 - acc: 0.2812 - val_loss: 1.5995 - val_acc: 0.3500\n",
      "Epoch 4/25\n",
      "Epoch 00004: val_loss improved from 1.59949 to 1.41501, saving model to CNN.weights.best.hdf5\n",
      " - 8s - loss: 1.5496 - acc: 0.3438 - val_loss: 1.4150 - val_acc: 0.3500\n",
      "Epoch 5/25\n",
      "Epoch 00005: val_loss improved from 1.41501 to 1.32233, saving model to CNN.weights.best.hdf5\n",
      " - 8s - loss: 1.4384 - acc: 0.3562 - val_loss: 1.3223 - val_acc: 0.3750\n",
      "Epoch 6/25\n",
      "Epoch 00006: val_loss improved from 1.32233 to 1.28305, saving model to CNN.weights.best.hdf5\n",
      " - 8s - loss: 1.3510 - acc: 0.3812 - val_loss: 1.2830 - val_acc: 0.4750\n",
      "Epoch 7/25\n",
      "Epoch 00007: val_loss did not improve\n",
      " - 8s - loss: 1.2893 - acc: 0.4625 - val_loss: 1.3882 - val_acc: 0.3250\n",
      "Epoch 8/25\n",
      "Epoch 00008: val_loss improved from 1.28305 to 1.23055, saving model to CNN.weights.best.hdf5\n",
      " - 8s - loss: 1.2407 - acc: 0.4438 - val_loss: 1.2306 - val_acc: 0.4250\n",
      "Epoch 9/25\n",
      "Epoch 00009: val_loss did not improve\n",
      " - 8s - loss: 1.1993 - acc: 0.4625 - val_loss: 1.3131 - val_acc: 0.2750\n",
      "Epoch 10/25\n",
      "Epoch 00010: val_loss did not improve\n",
      " - 8s - loss: 1.1891 - acc: 0.5063 - val_loss: 1.2911 - val_acc: 0.4000\n",
      "Epoch 11/25\n",
      "Epoch 00011: val_loss improved from 1.23055 to 1.20084, saving model to CNN.weights.best.hdf5\n",
      " - 8s - loss: 1.0925 - acc: 0.5562 - val_loss: 1.2008 - val_acc: 0.4250\n",
      "Epoch 12/25\n",
      "Epoch 00012: val_loss improved from 1.20084 to 1.10414, saving model to CNN.weights.best.hdf5\n",
      " - 8s - loss: 1.1148 - acc: 0.4937 - val_loss: 1.1041 - val_acc: 0.4000\n",
      "Epoch 13/25\n",
      "Epoch 00013: val_loss did not improve\n",
      " - 8s - loss: 1.0525 - acc: 0.5312 - val_loss: 1.3388 - val_acc: 0.4500\n",
      "Epoch 14/25\n",
      "Epoch 00014: val_loss improved from 1.10414 to 1.06002, saving model to CNN.weights.best.hdf5\n",
      " - 8s - loss: 0.9947 - acc: 0.5750 - val_loss: 1.0600 - val_acc: 0.4500\n",
      "Epoch 15/25\n",
      "Epoch 00015: val_loss did not improve\n",
      " - 8s - loss: 0.9790 - acc: 0.6125 - val_loss: 1.0753 - val_acc: 0.4750\n",
      "Epoch 16/25\n",
      "Epoch 00016: val_loss did not improve\n",
      " - 8s - loss: 0.9146 - acc: 0.5562 - val_loss: 1.4778 - val_acc: 0.2250\n",
      "Epoch 17/25\n",
      "Epoch 00017: val_loss did not improve\n",
      " - 8s - loss: 0.9612 - acc: 0.5688 - val_loss: 1.2166 - val_acc: 0.3750\n",
      "Epoch 18/25\n",
      "Epoch 00018: val_loss did not improve\n",
      " - 8s - loss: 0.8868 - acc: 0.6438 - val_loss: 1.0669 - val_acc: 0.4250\n",
      "Epoch 19/25\n",
      "Epoch 00019: val_loss did not improve\n",
      " - 8s - loss: 0.8379 - acc: 0.6562 - val_loss: 1.1702 - val_acc: 0.4750\n",
      "Epoch 20/25\n",
      "Epoch 00020: val_loss did not improve\n",
      " - 8s - loss: 0.8787 - acc: 0.6687 - val_loss: 1.4474 - val_acc: 0.4000\n",
      "Epoch 21/25\n",
      "Epoch 00021: val_loss did not improve\n",
      " - 8s - loss: 0.8399 - acc: 0.6375 - val_loss: 1.0655 - val_acc: 0.4750\n",
      "Epoch 22/25\n",
      "Epoch 00022: val_loss did not improve\n",
      " - 8s - loss: 0.7564 - acc: 0.7125 - val_loss: 1.1989 - val_acc: 0.4500\n",
      "Epoch 23/25\n",
      "Epoch 00023: val_loss did not improve\n",
      " - 8s - loss: 0.7696 - acc: 0.7063 - val_loss: 1.1844 - val_acc: 0.3750\n",
      "Epoch 24/25\n",
      "Epoch 00024: val_loss did not improve\n",
      " - 8s - loss: 0.6743 - acc: 0.7750 - val_loss: 1.1164 - val_acc: 0.5000\n",
      "Epoch 25/25\n",
      "Epoch 00025: val_loss did not improve\n",
      " - 8s - loss: 0.7284 - acc: 0.7312 - val_loss: 1.3343 - val_acc: 0.3500\n"
     ]
    }
   ],
   "source": [
    "from keras.callbacks import ModelCheckpoint\n",
    "\n",
    "model.compile(loss='categorical_crossentropy', optimizer='adadelta', metrics=['accuracy'])\n",
    "\n",
    "checkpoint = ModelCheckpoint(filepath='CNN.weights.best.hdf5', save_best_only=True, verbose=1)\n",
    "history = model.fit(X_train, y_train, batch_size=4, epochs=25, validation_split=0.2, \n",
    "                    shuffle=True, verbose=2, callbacks=[checkpoint])"
   ]
  },
  {
   "cell_type": "code",
   "execution_count": 5,
   "metadata": {},
   "outputs": [
    {
     "data": {
      "text/plain": [
       "[<matplotlib.lines.Line2D at 0x296c59f4f98>,\n",
       " <matplotlib.lines.Line2D at 0x296c5a02128>]"
      ]
     },
     "execution_count": 5,
     "metadata": {},
     "output_type": "execute_result"
    },
    {
     "data": {
      "image/png": "[encoded data removed]",
      "text/plain": [
       "<matplotlib.figure.Figure at 0x2963c3273c8>"
      ]
     },
     "metadata": {},
     "output_type": "display_data"
    }
   ],
   "source": [
    "loss = history.history['loss']\n",
    "val_loss = history.history['val_loss']\n",
    "epochs = range(25)\n",
    "plt.plot(epochs, loss, epochs, val_loss)"
   ]
  },
  {
   "cell_type": "code",
   "execution_count": 6,
   "metadata": {},
   "outputs": [
    {
     "name": "stdout",
     "output_type": "stream",
     "text": [
      "Accuracy on test data: 36.00%\n"
     ]
    }
   ],
   "source": [
    "model.load_weights('CNN.weights.best.hdf5')\n",
    "(loss, accuracy) = model.evaluate(X_test, y_test, batch_size=2, verbose=0)\n",
    "\n",
    "print('Accuracy on test data: {:.2f}%'.format(accuracy * 100))"
   ]
  },
  {
   "cell_type": "code",
   "execution_count": null,
   "metadata": {},
   "outputs": [],
   "source": []
  }
 ],
 "metadata": {
  "kernelspec": {
   "display_name": "Python 3",
   "language": "python",
   "name": "python3"
  },
  "language_info": {
   "codemirror_mode": {
    "name": "ipython",
    "version": 3
   },
   "file_extension": ".py",
   "mimetype": "text/x-python",
   "name": "python",
   "nbconvert_exporter": "python",
   "pygments_lexer": "ipython3",
   "version": "3.6.3"
  }
 },
 "nbformat": 4,
 "nbformat_minor": 2
}
